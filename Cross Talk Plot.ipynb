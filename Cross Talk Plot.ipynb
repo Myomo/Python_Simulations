{
 "cells": [
  {
   "cell_type": "code",
   "execution_count": 1,
   "metadata": {},
   "outputs": [],
   "source": [
    "import numpy as np\n",
    "import matplotlib.pyplot as plt\n",
    "import matplotlib\n",
    "import pandas as pd\n",
    "from scipy import signal\n",
    "\n",
    "%matplotlib inline\n",
    "\n",
    "font = {'family' : 'sans-serif', 'weight' : 'normal', 'size'   : 16}\n",
    "matplotlib.rc('font', **font)"
   ]
  },
  {
   "cell_type": "code",
   "execution_count": 3,
   "metadata": {},
   "outputs": [
    {
     "name": "stdout",
     "output_type": "stream",
     "text": [
      "Index(['Position', 'PWM', 'MotPosDeg', 'Temp', 'BatCap', 'BatAmp'], dtype='object')\n"
     ]
    },
    {
     "ename": "KeyError",
     "evalue": "0",
     "output_type": "error",
     "traceback": [
      "\u001b[1;31m---------------------------------------------------------------------------\u001b[0m",
      "\u001b[1;31mKeyError\u001b[0m                                  Traceback (most recent call last)",
      "\u001b[1;32m~\\Anaconda3\\lib\\site-packages\\pandas\\core\\indexes\\base.py\u001b[0m in \u001b[0;36mget_loc\u001b[1;34m(self, key, method, tolerance)\u001b[0m\n\u001b[0;32m   2896\u001b[0m             \u001b[1;32mtry\u001b[0m\u001b[1;33m:\u001b[0m\u001b[1;33m\u001b[0m\u001b[1;33m\u001b[0m\u001b[0m\n\u001b[1;32m-> 2897\u001b[1;33m                 \u001b[1;32mreturn\u001b[0m \u001b[0mself\u001b[0m\u001b[1;33m.\u001b[0m\u001b[0m_engine\u001b[0m\u001b[1;33m.\u001b[0m\u001b[0mget_loc\u001b[0m\u001b[1;33m(\u001b[0m\u001b[0mkey\u001b[0m\u001b[1;33m)\u001b[0m\u001b[1;33m\u001b[0m\u001b[1;33m\u001b[0m\u001b[0m\n\u001b[0m\u001b[0;32m   2898\u001b[0m             \u001b[1;32mexcept\u001b[0m \u001b[0mKeyError\u001b[0m\u001b[1;33m:\u001b[0m\u001b[1;33m\u001b[0m\u001b[1;33m\u001b[0m\u001b[0m\n",
      "\u001b[1;32mpandas\\_libs\\index.pyx\u001b[0m in \u001b[0;36mpandas._libs.index.IndexEngine.get_loc\u001b[1;34m()\u001b[0m\n",
      "\u001b[1;32mpandas\\_libs\\index.pyx\u001b[0m in \u001b[0;36mpandas._libs.index.IndexEngine.get_loc\u001b[1;34m()\u001b[0m\n",
      "\u001b[1;32mpandas\\_libs\\hashtable_class_helper.pxi\u001b[0m in \u001b[0;36mpandas._libs.hashtable.PyObjectHashTable.get_item\u001b[1;34m()\u001b[0m\n",
      "\u001b[1;32mpandas\\_libs\\hashtable_class_helper.pxi\u001b[0m in \u001b[0;36mpandas._libs.hashtable.PyObjectHashTable.get_item\u001b[1;34m()\u001b[0m\n",
      "\u001b[1;31mKeyError\u001b[0m: 0",
      "\nDuring handling of the above exception, another exception occurred:\n",
      "\u001b[1;31mKeyError\u001b[0m                                  Traceback (most recent call last)",
      "\u001b[1;32m<ipython-input-3-3f97c936627e>\u001b[0m in \u001b[0;36m<module>\u001b[1;34m\u001b[0m\n\u001b[0;32m     35\u001b[0m \u001b[1;31m# Controller_output =df_raw['Out:'].values\u001b[0m\u001b[1;33m\u001b[0m\u001b[1;33m\u001b[0m\u001b[1;33m\u001b[0m\u001b[0m\n\u001b[0;32m     36\u001b[0m \u001b[1;33m\u001b[0m\u001b[0m\n\u001b[1;32m---> 37\u001b[1;33m \u001b[0mPosition\u001b[0m \u001b[1;33m=\u001b[0m \u001b[0mdf_raw\u001b[0m\u001b[1;33m[\u001b[0m\u001b[1;36m0\u001b[0m\u001b[1;33m]\u001b[0m\u001b[1;33m.\u001b[0m\u001b[0mvalues\u001b[0m\u001b[1;33m\u001b[0m\u001b[1;33m\u001b[0m\u001b[0m\n\u001b[0m\u001b[0;32m     38\u001b[0m \u001b[0mPWM\u001b[0m \u001b[1;33m=\u001b[0m \u001b[0mdf_raw\u001b[0m\u001b[1;33m[\u001b[0m\u001b[1;34m'PWM'\u001b[0m\u001b[1;33m]\u001b[0m\u001b[1;33m.\u001b[0m\u001b[0mvalues\u001b[0m\u001b[1;33m\u001b[0m\u001b[1;33m\u001b[0m\u001b[0m\n\u001b[0;32m     39\u001b[0m \u001b[0mMotPosDeg\u001b[0m \u001b[1;33m=\u001b[0m \u001b[0mdf_raw\u001b[0m\u001b[1;33m[\u001b[0m\u001b[1;34m'MotPosDeg'\u001b[0m\u001b[1;33m]\u001b[0m\u001b[1;33m.\u001b[0m\u001b[0mvalues\u001b[0m\u001b[1;33m\u001b[0m\u001b[1;33m\u001b[0m\u001b[0m\n",
      "\u001b[1;32m~\\Anaconda3\\lib\\site-packages\\pandas\\core\\frame.py\u001b[0m in \u001b[0;36m__getitem__\u001b[1;34m(self, key)\u001b[0m\n\u001b[0;32m   2978\u001b[0m             \u001b[1;32mif\u001b[0m \u001b[0mself\u001b[0m\u001b[1;33m.\u001b[0m\u001b[0mcolumns\u001b[0m\u001b[1;33m.\u001b[0m\u001b[0mnlevels\u001b[0m \u001b[1;33m>\u001b[0m \u001b[1;36m1\u001b[0m\u001b[1;33m:\u001b[0m\u001b[1;33m\u001b[0m\u001b[1;33m\u001b[0m\u001b[0m\n\u001b[0;32m   2979\u001b[0m                 \u001b[1;32mreturn\u001b[0m \u001b[0mself\u001b[0m\u001b[1;33m.\u001b[0m\u001b[0m_getitem_multilevel\u001b[0m\u001b[1;33m(\u001b[0m\u001b[0mkey\u001b[0m\u001b[1;33m)\u001b[0m\u001b[1;33m\u001b[0m\u001b[1;33m\u001b[0m\u001b[0m\n\u001b[1;32m-> 2980\u001b[1;33m             \u001b[0mindexer\u001b[0m \u001b[1;33m=\u001b[0m \u001b[0mself\u001b[0m\u001b[1;33m.\u001b[0m\u001b[0mcolumns\u001b[0m\u001b[1;33m.\u001b[0m\u001b[0mget_loc\u001b[0m\u001b[1;33m(\u001b[0m\u001b[0mkey\u001b[0m\u001b[1;33m)\u001b[0m\u001b[1;33m\u001b[0m\u001b[1;33m\u001b[0m\u001b[0m\n\u001b[0m\u001b[0;32m   2981\u001b[0m             \u001b[1;32mif\u001b[0m \u001b[0mis_integer\u001b[0m\u001b[1;33m(\u001b[0m\u001b[0mindexer\u001b[0m\u001b[1;33m)\u001b[0m\u001b[1;33m:\u001b[0m\u001b[1;33m\u001b[0m\u001b[1;33m\u001b[0m\u001b[0m\n\u001b[0;32m   2982\u001b[0m                 \u001b[0mindexer\u001b[0m \u001b[1;33m=\u001b[0m \u001b[1;33m[\u001b[0m\u001b[0mindexer\u001b[0m\u001b[1;33m]\u001b[0m\u001b[1;33m\u001b[0m\u001b[1;33m\u001b[0m\u001b[0m\n",
      "\u001b[1;32m~\\Anaconda3\\lib\\site-packages\\pandas\\core\\indexes\\base.py\u001b[0m in \u001b[0;36mget_loc\u001b[1;34m(self, key, method, tolerance)\u001b[0m\n\u001b[0;32m   2897\u001b[0m                 \u001b[1;32mreturn\u001b[0m \u001b[0mself\u001b[0m\u001b[1;33m.\u001b[0m\u001b[0m_engine\u001b[0m\u001b[1;33m.\u001b[0m\u001b[0mget_loc\u001b[0m\u001b[1;33m(\u001b[0m\u001b[0mkey\u001b[0m\u001b[1;33m)\u001b[0m\u001b[1;33m\u001b[0m\u001b[1;33m\u001b[0m\u001b[0m\n\u001b[0;32m   2898\u001b[0m             \u001b[1;32mexcept\u001b[0m \u001b[0mKeyError\u001b[0m\u001b[1;33m:\u001b[0m\u001b[1;33m\u001b[0m\u001b[1;33m\u001b[0m\u001b[0m\n\u001b[1;32m-> 2899\u001b[1;33m                 \u001b[1;32mreturn\u001b[0m \u001b[0mself\u001b[0m\u001b[1;33m.\u001b[0m\u001b[0m_engine\u001b[0m\u001b[1;33m.\u001b[0m\u001b[0mget_loc\u001b[0m\u001b[1;33m(\u001b[0m\u001b[0mself\u001b[0m\u001b[1;33m.\u001b[0m\u001b[0m_maybe_cast_indexer\u001b[0m\u001b[1;33m(\u001b[0m\u001b[0mkey\u001b[0m\u001b[1;33m)\u001b[0m\u001b[1;33m)\u001b[0m\u001b[1;33m\u001b[0m\u001b[1;33m\u001b[0m\u001b[0m\n\u001b[0m\u001b[0;32m   2900\u001b[0m         \u001b[0mindexer\u001b[0m \u001b[1;33m=\u001b[0m \u001b[0mself\u001b[0m\u001b[1;33m.\u001b[0m\u001b[0mget_indexer\u001b[0m\u001b[1;33m(\u001b[0m\u001b[1;33m[\u001b[0m\u001b[0mkey\u001b[0m\u001b[1;33m]\u001b[0m\u001b[1;33m,\u001b[0m \u001b[0mmethod\u001b[0m\u001b[1;33m=\u001b[0m\u001b[0mmethod\u001b[0m\u001b[1;33m,\u001b[0m \u001b[0mtolerance\u001b[0m\u001b[1;33m=\u001b[0m\u001b[0mtolerance\u001b[0m\u001b[1;33m)\u001b[0m\u001b[1;33m\u001b[0m\u001b[1;33m\u001b[0m\u001b[0m\n\u001b[0;32m   2901\u001b[0m         \u001b[1;32mif\u001b[0m \u001b[0mindexer\u001b[0m\u001b[1;33m.\u001b[0m\u001b[0mndim\u001b[0m \u001b[1;33m>\u001b[0m \u001b[1;36m1\u001b[0m \u001b[1;32mor\u001b[0m \u001b[0mindexer\u001b[0m\u001b[1;33m.\u001b[0m\u001b[0msize\u001b[0m \u001b[1;33m>\u001b[0m \u001b[1;36m1\u001b[0m\u001b[1;33m:\u001b[0m\u001b[1;33m\u001b[0m\u001b[1;33m\u001b[0m\u001b[0m\n",
      "\u001b[1;32mpandas\\_libs\\index.pyx\u001b[0m in \u001b[0;36mpandas._libs.index.IndexEngine.get_loc\u001b[1;34m()\u001b[0m\n",
      "\u001b[1;32mpandas\\_libs\\index.pyx\u001b[0m in \u001b[0;36mpandas._libs.index.IndexEngine.get_loc\u001b[1;34m()\u001b[0m\n",
      "\u001b[1;32mpandas\\_libs\\hashtable_class_helper.pxi\u001b[0m in \u001b[0;36mpandas._libs.hashtable.PyObjectHashTable.get_item\u001b[1;34m()\u001b[0m\n",
      "\u001b[1;32mpandas\\_libs\\hashtable_class_helper.pxi\u001b[0m in \u001b[0;36mpandas._libs.hashtable.PyObjectHashTable.get_item\u001b[1;34m()\u001b[0m\n",
      "\u001b[1;31mKeyError\u001b[0m: 0"
     ]
    }
   ],
   "source": [
    "# loc = 'C:/Users/MichaelDelph/Dropbox (Myomo Inc)/!Engineering/Project Files/Saturn/Designs/EMG Sensor Cross Talk/'\n",
    "# # file_name = '120252_SpeedBackDriveEval_08_05_2020'\n",
    "# # file_name = '140439_PositionalBackdrive_08_05_2020'\n",
    "# # file_name = '142129_BackdrivePostionVaringGains_08_05_2020'\n",
    "# # file_name = '144423_BackDriveBtnPress_08_05_2020'\n",
    "# file_name = 'ElbowGrasp Cross Talk Eval Site 4'\n",
    "# extnd = '.csv'\n",
    "# input_file = loc + file_name + extnd\n",
    "\n",
    "\n",
    "\n",
    "\n",
    "\n",
    "loc = 'C:/Users/MichaelDelph/Dropbox (Myomo Inc)/!Engineering/Project Files/Saturn/Designs/Behaviors/Position control/'\n",
    "# file_name = '120252_SpeedBackDriveEval_08_05_2020'\n",
    "# file_name = '140439_PositionalBackdrive_08_05_2020'\n",
    "# file_name = '142129_BackdrivePostionVaringGains_08_05_2020'\n",
    "# file_name = '144423_BackDriveBtnPress_08_05_2020'\n",
    "file_name = 'Hold Position Eval 2'\n",
    "extnd = '.csv'\n",
    "input_file = loc + file_name + extnd\n",
    "\n",
    "\n",
    "df_raw = pd.read_csv(input_file, header=0, dtype=np.float64)\n",
    "print (df_raw.columns)\n",
    "\n",
    "# Tricep = df_raw['Tricep'].values\n",
    "# Bicep = df_raw['Bicep'].values\n",
    "# Flex = df_raw['Flex'].values\n",
    "# Extend = df_raw['Extend'].values\n",
    "# Motor_Input = df_raw['PWMInput:'].values\n",
    "# J_Meas_Speed = df_raw['JointMeasSpeed:'].values\n",
    "# M_Meas_Speed = df_raw['MTRMeasSpeed:'].values\n",
    "# HoldCount = df_raw['HoldCount:'].values\n",
    "# Controller_output =df_raw['Out:'].values\n",
    "\n",
    "Position = df_raw[0].values\n",
    "PWM = df_raw['PWM'].values\n",
    "MotPosDeg = df_raw['MotPosDeg'].values\n",
    "Temp = df_raw['Temp'].values\n",
    "\n",
    "\n",
    "\n",
    "t = np.linspace(0, len(PWM), len(PWM))"
   ]
  },
  {
   "cell_type": "code",
   "execution_count": 32,
   "metadata": {},
   "outputs": [
    {
     "data": {
      "text/plain": [
       "<matplotlib.legend.Legend at 0x1e9ceba47c8>"
      ]
     },
     "execution_count": 32,
     "metadata": {},
     "output_type": "execute_result"
    },
    {
     "data": {
      "image/png": "[encoded data removed]",
      "text/plain": [
       "<Figure size 720x720 with 1 Axes>"
      ]
     },
     "metadata": {
      "needs_background": "light"
     },
     "output_type": "display_data"
    }
   ],
   "source": [
    "plt.figure(figsize=(10,10))\n",
    "plt.plot(t,Position, 'r', label = 'Pos')\n",
    "plt.plot(t,PWM, 'b', label = 'PWM')\n",
    "# plt.plot(t,MotPosDeg, 'g')\n",
    "plt.plot(t,Temp, 'y', label = 'Temp')\n",
    "# plt.plot(sample,M_Meas_Speed, 'o')\n",
    "plt.xlabel('Samples ')\n",
    "plt.ylabel('EMG Signal')\n",
    "# plt.grid(color='k', linestyle='-', linewidth=2)\n",
    "plt.title(\"EMG Cross Talk Eval Site 4\", fontsize = 16)\n",
    "# plt.xlim([4000,6000])\n",
    "plt.legend()\n",
    "# plt.ylim([0,35])\n",
    "\n",
    "\n",
    "plt.figure(figsize=(10,10))\n",
    "plt.plot(t,Position, 'r', label = 'Pos')\n",
    "# plt.plot(t,PWM, 'b', label = 'PWM')\n",
    "# plt.plot(t,MotPosDeg, 'g')\n",
    "plt.plot(t,Temp, 'y', label = 'Temp')\n",
    "# plt.plot(sample,M_Meas_Speed, 'o')\n",
    "plt.xlabel('Samples ')\n",
    "plt.ylabel('EMG Signal')\n",
    "# plt.grid(color='k', linestyle='-', linewidth=2)\n",
    "plt.title(\"EMG Cross Talk Eval Site 4\", fontsize = 16)\n",
    "# plt.xlim([4000,6000])\n",
    "plt.legend()\n",
    "# plt.ylim([0,35])\n",
    "\n",
    "\n",
    "plt.figure(figsize=(10,10))\n",
    "# plt.plot(t,Position, 'r', label = 'Pos')\n",
    "# plt.plot(t,PWM, 'b', label = 'PWM')\n",
    "# plt.plot(t,MotPosDeg, 'g')\n",
    "plt.plot(t,Temp, 'y', label = 'Temp')\n",
    "# plt.plot(sample,M_Meas_Speed, 'o')\n",
    "plt.xlabel('Samples ')\n",
    "plt.ylabel('EMG Signal')\n",
    "# plt.grid(color='k', linestyle='-', linewidth=2)\n",
    "plt.title(\"EMG Cross Talk Eval Site 4\", fontsize = 16)\n",
    "# plt.xlim([4000,6000])\n",
    "plt.legend()\n",
    "# plt.ylim([0,35])\n",
    "\n",
    "\n",
    "plt.figure(figsize=(10,10))\n",
    "plt.plot(t,Position, 'r', label = 'Pos')\n",
    "# plt.plot(t,PWM, 'b', label = 'PWM')\n",
    "# plt.plot(t,MotPosDeg, 'g')\n",
    "# plt.plot(t,Temp, 'y', label = 'Temp')\n",
    "# plt.plot(sample,M_Meas_Speed, 'o')\n",
    "plt.xlabel('Samples ')\n",
    "plt.ylabel('EMG Signal')\n",
    "# plt.grid(color='k', linestyle='-', linewidth=2)\n",
    "plt.title(\"EMG Cross Talk Eval Site 4\", fontsize = 16)\n",
    "# plt.xlim([4000,6000])\n",
    "plt.legend()\n",
    "# plt.ylim([0,35])"
   ]
  },
  {
   "cell_type": "code",
   "execution_count": null,
   "metadata": {},
   "outputs": [],
   "source": [
    "fig,ax1 = plt.subplots()\n",
    "fig.set_figheight(10)\n",
    "fig.set_figwidth(10)\n",
    "ax1.plot(t,J, 'b')\n",
    "ax1.set_xlabel('Samples')\n",
    "ax1.set_ylabel('Joint Position [%ROM]', color='b')\n",
    "ax1.tick_params('y', colors='b')\n",
    "ax1.legend(['Joint Position'], loc = 2)\n",
    "ax1.grid(True)\n",
    "\n",
    "ax2 = ax1.twinx()\n",
    "ax2.plot(sample, Measured_Speed, 'r-')\n",
    "ax2.set_ylabel('Joint Speed [Motor Units]', color='r')\n",
    "ax2.tick_params('y', colors='r')\n",
    "ax2.legend(['Joint Speed'], loc = 1)\n"
   ]
  }
 ],
 "metadata": {
  "kernelspec": {
   "display_name": "Python 3",
   "language": "python",
   "name": "python3"
  },
  "language_info": {
   "codemirror_mode": {
    "name": "ipython",
    "version": 3
   },
   "file_extension": ".py",
   "mimetype": "text/x-python",
   "name": "python",
   "nbconvert_exporter": "python",
   "pygments_lexer": "ipython3",
   "version": "3.7.4"
  }
 },
 "nbformat": 4,
 "nbformat_minor": 2
}
