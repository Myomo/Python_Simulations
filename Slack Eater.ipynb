{
 "cells": [
  {
   "cell_type": "markdown",
   "metadata": {},
   "source": [
    "# Slack Eater Function prototype\n",
    "\n",
    "## Purpose:\n",
    "The purpose of this function block is to explore algorithmic solutions for the excess slack generation that is caused when the hand is flexed and is then set to open but the spring return does not have enough force to open the hand."
   ]
  },
  {
   "cell_type": "code",
   "execution_count": 1,
   "metadata": {},
   "outputs": [],
   "source": [
    "## Normal Setup stuff\n",
    "%matplotlib inline\n",
    "\n",
    "import numpy as np\n",
    "import pandas as pd\n",
    "import matplotlib.pyplot as plt\n",
    "import matplotlib\n",
    "font = {'family' : 'sans-serif', 'weight' : 'normal', 'size'   : 16}\n",
    "matplotlib.rc('font', **font)\n",
    "from __future__ import division ## Python 3.0 returns the quotient in decimal form "
   ]
  },
  {
   "cell_type": "markdown",
   "metadata": {},
   "source": [
    "# Variable Definitions"
   ]
  },
  {
   "cell_type": "code",
   "execution_count": 24,
   "metadata": {},
   "outputs": [],
   "source": [
    "grasp_pos = 0 ##This variable signifies the angular position of the grasp mechanism\n",
    "sled_pos = 0  ## This variable signifies the linear displacement of grasp motor sled\n",
    "\n",
    "motor_speed = 0  #This variable represents the current set motor speed signal\n",
    "grasp_vel_delta = 0 #This variable represents the difference between the grasp actuator and sled velocity\n",
    "\n",
    "grasp_pos_max = 5 #This variable represents the max (full extension) position of the grasp mechanism\n",
    "grasp_pos_min = 1 #This variable represents the min (full flexion) position of the grasp mechanism\n",
    "\n",
    "sled_pos_max = 2 #This variable represents the max (full extension) position of the grasp motor sled\n",
    "sled_pos_min = 0.5 #This variable represents the min (full flexion) position of the grasp motor sled\n",
    "\n",
    "slack_tolerance = 0.1  #\n",
    "\n",
    "m = (grasp_pos_max -grasp_pos_min) / (sled_pos_max - sled_pos_min)\n",
    "b = 0.25 ## place holder\n",
    "\n",
    "\n"
   ]
  },
  {
   "cell_type": "markdown",
   "metadata": {},
   "source": [
    "# Function Definition\n",
    "\n",
    "The goal of this function is modulate the movement speed of the of the graps motor sled based on the movement and sepped of the grasp actuator.  If the graps acutator is lagging behind the sleds movement the controller will adjust the motor sled speed (motor output) in order to allow for the spring to catch up."
   ]
  },
  {
   "cell_type": "code",
   "execution_count": 23,
   "metadata": {},
   "outputs": [],
   "source": [
    "def slack_eater(mot_spd,grasp_act,sled_act):\n",
    "    \n",
    "    des_grasp_pos = m * (sled_pos) + b\n",
    "    \n",
    "    grasp_delta = des_grasp_pos - grasp_pos\n",
    "    \n",
    "    while grasp_delta < slack_tolerance:\n",
    "        motor_speed = mot_spd\n",
    "    if grasp_delta >= slack_tolerance:\n",
    "        motor_speed = 0\n",
    "    \n",
    "    return motor_speed\n"
   ]
  }
 ],
 "metadata": {
  "kernelspec": {
   "display_name": "Python 2",
   "language": "python",
   "name": "python2"
  },
  "language_info": {
   "codemirror_mode": {
    "name": "ipython",
    "version": 2
   },
   "file_extension": ".py",
   "mimetype": "text/x-python",
   "name": "python",
   "nbconvert_exporter": "python",
   "pygments_lexer": "ipython2",
   "version": "2.7.16"
  }
 },
 "nbformat": 4,
 "nbformat_minor": 2
}
