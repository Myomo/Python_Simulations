{
 "cells": [
  {
   "cell_type": "code",
   "execution_count": 28,
   "metadata": {},
   "outputs": [],
   "source": [
    "import numpy as np\n",
    "import matplotlib.pyplot as plt\n",
    "import matplotlib\n",
    "import pandas as pd\n",
    "import xlrd\n",
    "import docx\n",
    "import os\n",
    "\n",
    "\n",
    "%matplotlib inline\n",
    "\n",
    "font = {'family' : 'sans-serif', 'weight' : 'normal', 'size'   : 16}\n",
    "matplotlib.rc('font', **font)"
   ]
  },
  {
   "cell_type": "code",
   "execution_count": 27,
   "metadata": {},
   "outputs": [],
   "source": [
    "loc = 'C:/Users/MichaelDelph/Dropbox (Myomo Inc)/General/'\n",
    "file_name = 'MeasurementstoHardwareValuesRev2'\n",
    "extnd = '.xlsx'\n",
    "input_file = loc + file_name + extnd\n",
    "\n",
    "\n",
    "workbook = xlrd.open_workbook(input_file)\n",
    "worksheet = workbook.sheet_by_name('Results')\n",
    "\n",
    "Elbow_tendon_Length = worksheet.cell(2,1).value #Row, Collumn\n",
    "\n",
    "Humeral_Cuff_Size = worksheet.cell(3,1).value #Row, Collumn\n",
    "\n",
    "Forearm_Holes_To_Remove = worksheet.cell(4,1).value #Row, Collumn\n",
    "\n",
    "Forearm_Cuff_Size = worksheet.cell(5,1).value #Row, Collumn\n",
    "\n",
    "HCB_Length = worksheet.cell(6,1).value #Row, Collumn\n",
    "\n",
    "Grasp_Tendon_Length = worksheet.cell(7,1).value #Row, Collumn\n",
    "\n",
    "Hand_Shell_Size = worksheet.cell(8,1).value #Row, Collumn\n",
    "\n",
    "\n",
    "# worksheet.cell(2,1).value #Row, Collumn"
   ]
  },
  {
   "cell_type": "code",
   "execution_count": 31,
   "metadata": {},
   "outputs": [
    {
     "ename": "SyntaxError",
     "evalue": "invalid syntax (<ipython-input-31-5ce2cba42780>, line 3)",
     "output_type": "error",
     "traceback": [
      "\u001b[1;36m  File \u001b[1;32m\"<ipython-input-31-5ce2cba42780>\"\u001b[1;36m, line \u001b[1;32m3\u001b[0m\n\u001b[1;33m    body = doc.add_paragraph(str(Elbow_tendon_Length)S\u001b[0m\n\u001b[1;37m                                                     ^\u001b[0m\n\u001b[1;31mSyntaxError\u001b[0m\u001b[1;31m:\u001b[0m invalid syntax\n"
     ]
    }
   ],
   "source": [
    "doc =docx.Document()\n",
    "\n",
    "body = doc.add_paragraph(str(Elbow_tendon_Length))\n",
    "\n",
    "doc.save(\"testTraveler.docx\")\n",
    "os.system(\"start testTraveler.docx\")"
   ]
  },
  {
   "cell_type": "code",
   "execution_count": null,
   "metadata": {},
   "outputs": [],
   "source": []
  }
 ],
 "metadata": {
  "kernelspec": {
   "display_name": "Python 3",
   "language": "python",
   "name": "python3"
  },
  "language_info": {
   "codemirror_mode": {
    "name": "ipython",
    "version": 3
   },
   "file_extension": ".py",
   "mimetype": "text/x-python",
   "name": "python",
   "nbconvert_exporter": "python",
   "pygments_lexer": "ipython3",
   "version": "3.7.4"
  }
 },
 "nbformat": 4,
 "nbformat_minor": 2
}
