{
 "cells": [
  {
   "cell_type": "code",
   "execution_count": 2,
   "metadata": {},
   "outputs": [],
   "source": [
    "## Normal Setup stuff\n",
    "%matplotlib inline\n",
    "\n",
    "import numpy as np\n",
    "import pandas as pd\n",
    "import matplotlib.pyplot as plt\n",
    "import matplotlib\n",
    "font = {'family' : 'sans-serif', 'weight' : 'normal', 'size'   : 16}\n",
    "matplotlib.rc('font', **font)\n",
    "# from __future__ import division ## Python 3.0 returns the quotient in decimal form "
   ]
  },
  {
   "cell_type": "code",
   "execution_count": 4,
   "metadata": {},
   "outputs": [
    {
     "ename": "SyntaxError",
     "evalue": "Missing parentheses in call to 'print'. Did you mean print(df_raw.columns)? (<ipython-input-4-22a28a38a763>, line 6)",
     "output_type": "error",
     "traceback": [
      "\u001b[1;36m  File \u001b[1;32m\"<ipython-input-4-22a28a38a763>\"\u001b[1;36m, line \u001b[1;32m6\u001b[0m\n\u001b[1;33m    print df_raw.columns\u001b[0m\n\u001b[1;37m               ^\u001b[0m\n\u001b[1;31mSyntaxError\u001b[0m\u001b[1;31m:\u001b[0m Missing parentheses in call to 'print'. Did you mean print(df_raw.columns)?\n"
     ]
    }
   ],
   "source": [
    "loc = 'C:/Users/MichaelDelph/Dropbox (Myomo Inc)/!Engineering/Project Files/Saturn/Designs/Behaviors/Position control/'\n",
    "file_name = 'Temp Eval Pos data 1 parse.txt'\n",
    "input_file = loc + file_name\n",
    "\n",
    "df_raw = pd.read_csv(input_file, header=0, dtype=np.float64)\n",
    "print (df_raw.columns)"
   ]
  }
 ],
 "metadata": {
  "kernelspec": {
   "display_name": "Python 3",
   "language": "python",
   "name": "python3"
  },
  "language_info": {
   "codemirror_mode": {
    "name": "ipython",
    "version": 3
   },
   "file_extension": ".py",
   "mimetype": "text/x-python",
   "name": "python",
   "nbconvert_exporter": "python",
   "pygments_lexer": "ipython3",
   "version": "3.7.4"
  }
 },
 "nbformat": 4,
 "nbformat_minor": 2
}
